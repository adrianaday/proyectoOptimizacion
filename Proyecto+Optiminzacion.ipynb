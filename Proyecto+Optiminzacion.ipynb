{
 "cells": [
  {
   "cell_type": "markdown",
   "metadata": {},
   "source": [
    "# PROYECTO DE OPTIMIZACÍON \n",
    "\n",
    "Por: \n",
    "Abel García\n",
    "Adriana Elizabeth Day Morales\n",
    "\n",
    "\n",
    "# Problema de descubrir datos ocultos \n",
    " \n",
    "##### Problema real \n",
    " \n",
    "Supongamos que el Instituto Nacional de Estadística publica la tabla de datos recogida como tabla 2 con distintos gastos medios de diversos colectivos de una región. Nótese que se dan tanto datos concretos como sumas marginales y totales. Sin embargo, algunos datos se consideran confidenciales, ya que su publicación revelaría información privada. Por ejemplo, se considera que el dato referente al gasto medio en “vicios” de los “obispos” de una región es información confidencial, porque en dicha región sólo hay 1 obispo y, por ello, su publicación estaría revelando información de un individuo con nombre y apellidos conocidos. No ocurre igual con otros colectivos porque tienen más miembros. No obstante, algunos deben igualmente ser suprimidos para proteger el caso anterior. Los datos suprimidos son los que aparecen marcados con asterisco. Si sólo sabemos que ninguno de los datos ocultos puede ser negativo, ¿cuál es el rango más estrecho de valores que esta tabla revelará a un posible curioso sobre el gasto del obispo en vicios?  \n",
    " "
   ]
  },
  {
   "cell_type": "code",
   "execution_count": 19,
   "metadata": {},
   "outputs": [
    {
     "data": {
      "text/html": [
       "<div>\n",
       "<style>\n",
       "    .dataframe thead tr:only-child th {\n",
       "        text-align: right;\n",
       "    }\n",
       "\n",
       "    .dataframe thead th {\n",
       "        text-align: left;\n",
       "    }\n",
       "\n",
       "    .dataframe tbody tr th {\n",
       "        vertical-align: top;\n",
       "    }\n",
       "</style>\n",
       "<table border=\"1\" class=\"dataframe\">\n",
       "  <thead>\n",
       "    <tr style=\"text-align: right;\">\n",
       "      <th></th>\n",
       "      <th>Estudiante</th>\n",
       "      <th>Maestro</th>\n",
       "      <th>Obispo</th>\n",
       "      <th>Policia</th>\n",
       "      <th>Profesor</th>\n",
       "      <th>TOTAL</th>\n",
       "      <th>Vigilante</th>\n",
       "    </tr>\n",
       "  </thead>\n",
       "  <tbody>\n",
       "    <tr>\n",
       "      <th>Lectura</th>\n",
       "      <td>105</td>\n",
       "      <td>130</td>\n",
       "      <td>212</td>\n",
       "      <td>5</td>\n",
       "      <td>345</td>\n",
       "      <td>812</td>\n",
       "      <td>15</td>\n",
       "    </tr>\n",
       "    <tr>\n",
       "      <th>Vicios</th>\n",
       "      <td>234</td>\n",
       "      <td>212</td>\n",
       "      <td>*</td>\n",
       "      <td>52</td>\n",
       "      <td>*</td>\n",
       "      <td>953</td>\n",
       "      <td>234</td>\n",
       "    </tr>\n",
       "    <tr>\n",
       "      <th>Gimnasia</th>\n",
       "      <td>32</td>\n",
       "      <td>45</td>\n",
       "      <td>7</td>\n",
       "      <td>432</td>\n",
       "      <td>*</td>\n",
       "      <td>726</td>\n",
       "      <td>*</td>\n",
       "    </tr>\n",
       "    <tr>\n",
       "      <th>Ropa</th>\n",
       "      <td>52</td>\n",
       "      <td>85</td>\n",
       "      <td>*</td>\n",
       "      <td>34</td>\n",
       "      <td>90</td>\n",
       "      <td>271</td>\n",
       "      <td>*</td>\n",
       "    </tr>\n",
       "    <tr>\n",
       "      <th>TOTAL</th>\n",
       "      <td>423</td>\n",
       "      <td>472</td>\n",
       "      <td>321</td>\n",
       "      <td>523</td>\n",
       "      <td>576</td>\n",
       "      <td>2762</td>\n",
       "      <td>447</td>\n",
       "    </tr>\n",
       "  </tbody>\n",
       "</table>\n",
       "</div>"
      ],
      "text/plain": [
       "          Estudiante  Maestro Obispo  Policia Profesor  TOTAL Vigilante\n",
       "Lectura          105      130    212        5      345    812        15\n",
       "Vicios           234      212      *       52        *    953       234\n",
       "Gimnasia          32       45      7      432        *    726         *\n",
       "Ropa              52       85      *       34       90    271         *\n",
       "TOTAL            423      472    321      523      576   2762       447"
      ]
     },
     "execution_count": 19,
     "metadata": {},
     "output_type": "execute_result"
    }
   ],
   "source": [
    "import pandas as pd\n",
    "import sympy as sym\n",
    "sym.init_printing(use_latex='mathjax')\n",
    "\n",
    "info = pd.DataFrame({'Policia': [5, 52, 432, 34, 523], 'Profesor': [345, '*', '*', 90, 576], 'Maestro': [130, 212, 45, 85, 472], 'Obispo': [212, '*', 7, '*', 321],'Estudiante': [105, 234, 32 ,52, 423], 'Vigilante': [15, 234, '*', '*', 447], 'TOTAL': [812, 953, 726, 271, 2762] ,}, index = ['Lectura', 'Vicios', 'Gimnasia', 'Ropa', 'TOTAL'])\n",
    "info"
   ]
  },
  {
   "cell_type": "markdown",
   "metadata": {},
   "source": [
    "##### Modelo matemático \n",
    "\n",
    " Consideremos una variable $x_{ij}$ asociada a cada celda (es decir, a cada fila i y a cada columna j) representando el verdadero valor en la tabla. Es claro que las variables no son independientes entre sí, sino que están atadas por ecuaciones: una por cada fila y por cada columna. Así cualquier tabla de valores posibles para esta tabla debe cumplir: "
   ]
  },
  {
   "cell_type": "markdown",
   "metadata": {},
   "source": [
    "Sean:\n",
    "    \n",
    "- $x_{11}$ + $x_{12}$ +$x_{13}$ + $x_{14}$+ $x_{15}$+ $x_{16}$ = $x_{17}$\n",
    "\n",
    "- $x_{21}$ + $x_{22}$ +$x_{23}$ + $x_{24}$+ $x_{25}$+ $x_{26}$ = $x_{27}$\n",
    "\n",
    "- $x_{31}$ + $x_{32}$ +$x_{33}$ + $x_{34}$+ $x_{35}$+ $x_{36}$ = $x_{37}$\n",
    "\n",
    "- $x_{41}$ + $x_{42}$ +$x_{43}$ + $x_{44}$+ $x_{45}$+ $x_{46}$ = $x_{47}$\n",
    "\n",
    "- $x_{51}$ + $x_{52}$ +$x_{53}$ + $x_{54}$+ $x_{55}$+ $x_{56}$ = $x_{57}$\n",
    "\n",
    "\n",
    "- $x_{11}$ + $x_{21}$+ $x_{31}$+ $x_{41}$ = $x_{51}$\n",
    "\n",
    "- $x_{12}$ + $x_{22}$+ $x_{32}$+ $x_{42}$ = $x_{52}$\n",
    "\n",
    "- $x_{13}$ + $x_{23}$+ $x_{33}$+ $x_{43}$ = $x_{53}$\n",
    "\n",
    "- $x_{14}$ + $x_{24}$+ $x_{34}$+ $x_{44}$ = $x_{54}$\n",
    "\n",
    "- $x_{15}$ + $x_{25}$+ $x_{35}$+ $x_{45}$ = $x_{55}$\n",
    "\n",
    "- $x_{16}$ + $x_{26}$+ $x_{36}$+ $x_{46}$ = $x_{56}$\n",
    "\n",
    "- $x_{17}$ + $x_{27}$+ $x_{37}$+ $x_{47}$ = $x_{57}$\n",
    "\n",
    "\n",
    "- $x_{11}, x_{12}...x_{56}, x_{57} \\geq x_{51}$\n",
    "\n",
    "\n"
   ]
  },
  {
   "cell_type": "markdown",
   "metadata": {},
   "source": [
    "Además hay variables que en realidad son parámetros (aquellas asociadas a celdas cuyos verdaderos valores serán publicados) y hay otras de las que sólo sabemos que son no negativas. Por ello, el conjunto de todas las posibilidades que además son compatibles con la tabla publicada cumplirán:"
   ]
  },
  {
   "cell_type": "markdown",
   "metadata": {},
   "source": [
    "- $x_{22}$+ $x_{25}$ = 221\n",
    "- $x_{32}$+ $x_{34}$ = 210\n",
    "- $x_{44}$+ $x_{45}$ = 10\n",
    "\n",
    "\n",
    "- $x_{22}$+ $x_{32}$ = 141\n",
    "- $x_{34}$+ $x_{44}$ = 198\n",
    "- $x_{25}$+ $x_{45}$ = 102\n",
    "\n",
    "- $x_{22}, x_{25}, x_{32}, x_{34}, x_{44}, x_{45} \\geq 0$"
   ]
  },
  {
   "cell_type": "markdown",
   "metadata": {},
   "source": [
    "Ahora el problema planteado consiste en resolver dos problemas lineales, minimizando y maximizando la variable $x_{25}$  , respectivamente. Ambos valores óptimos definen el rango dentro del cual debe estar el valor no publicado de la celda en fila 2 y columna 5.  Este tipo de problemas se llama problema del curioso, y es particularmente relevante en el control de la privacidad durante la publicación de tablas estadísticas. En este contexto aparecen numerosos problemas diferentes de optimización, como el que se plantea un instituto de estadística cuando desea encontrar las celdas que no debe publicar en una tabla estadística para asegurar ciertos niveles de protección en algunas celdas consideradas “sensibles”. "
   ]
  },
  {
   "cell_type": "code",
   "execution_count": 28,
   "metadata": {
    "collapsed": true
   },
   "outputs": [],
   "source": [
    "import numpy as np\n",
    "import scipy.optimize as opt\n",
    "\n",
    "c = np.array([0, 1, 0, 0, 0, 0])\n",
    "A = np.array([[1, 1, 0, 0, 0, 0,], [0, 0, 1, 1, 0, 0], [0, 0, 0, 0, 1, 1,], [1, 1, 0, 0, 0, 0,], [0, 0, 1, 1, 0, 0], [0, 0, 0, 0, 1, 1,]])\n",
    "b = np.array([221, 210, 10, 141, 198, 102])\n",
    "x22_cota = (0, None)\n",
    "x25_cota = (0, None)\n",
    "x32_cota = (0, None)\n",
    "x34_cota = (0, None)\n",
    "x44_cota = (0, None)\n",
    "x45_cota = (0, None)\n",
    "\n"
   ]
  },
  {
   "cell_type": "code",
   "execution_count": 29,
   "metadata": {},
   "outputs": [],
   "source": [
    "res_dato = opt.linprog(c, A_eq=A, b_eq=b, bounds = (x22_cota,x25_cota,x32_cota,x34_cota,x44_cota,x45_cota))"
   ]
  },
  {
   "cell_type": "code",
   "execution_count": 30,
   "metadata": {},
   "outputs": [
    {
     "data": {
      "text/plain": [
       "     fun: 184.0\n",
       " message: 'Optimization failed. Unable to find a feasible starting point.'\n",
       "     nit: 3\n",
       "  status: 2\n",
       " success: False\n",
       "       x: nan"
      ]
     },
     "execution_count": 30,
     "metadata": {},
     "output_type": "execute_result"
    }
   ],
   "source": [
    "res_dato"
   ]
  },
  {
   "cell_type": "code",
   "execution_count": null,
   "metadata": {
    "collapsed": true
   },
   "outputs": [],
   "source": [
    "c = np.array([0, -1, 0, 0, 0, 0])\n",
    "A = np.array([[1, 1, 0, 0, 0, 0,], [0, 0, 1, 1, 0, 0], [0, 0, 0, 0, 1, 1,], [1, 1, 0, 0, 0, 0,], [0, 0, 1, 1, 0, 0], [0, 0, 0, 0, 1, 1,]])\n",
    "b = np.array([221, 210, 10, 141, 198, 102])\n",
    "x22_cota = (0, None)\n",
    "x25_cota = (0, None)\n",
    "x32_cota = (0, None)\n",
    "x34_cota = (0, None)\n",
    "x44_cota = (0, None)\n",
    "x45_cota = (0, None)"
   ]
  }
 ],
 "metadata": {
  "kernelspec": {
   "display_name": "Python 3",
   "language": "python",
   "name": "python3"
  },
  "language_info": {
   "codemirror_mode": {
    "name": "ipython",
    "version": 3
   },
   "file_extension": ".py",
   "mimetype": "text/x-python",
   "name": "python",
   "nbconvert_exporter": "python",
   "pygments_lexer": "ipython3",
   "version": "3.6.3"
  }
 },
 "nbformat": 4,
 "nbformat_minor": 2
}
